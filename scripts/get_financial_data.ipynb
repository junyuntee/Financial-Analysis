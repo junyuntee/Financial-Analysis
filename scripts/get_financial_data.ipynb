{
 "cells": [
  {
   "cell_type": "code",
   "execution_count": 33,
   "id": "95812330",
   "metadata": {},
   "outputs": [],
   "source": [
    "from edgar import *\n",
    "import pandas as pd\n",
    "from enum import Enum\n",
    "import os\n",
    "from pathlib import Path"
   ]
  },
  {
   "cell_type": "code",
   "execution_count": 34,
   "id": "80e06d54",
   "metadata": {},
   "outputs": [
    {
     "data": {
      "text/html": [
       "<pre style=\"white-space:pre;overflow-x:auto;line-height:normal;font-family:Menlo,'DejaVu Sans Mono',consolas,'Courier New',monospace\"><span style=\"color: #7fbfbf; text-decoration-color: #7fbfbf\">[20:43:22] </span><span style=\"color: #000080; text-decoration-color: #000080\">INFO    </span> Identity of the Edgar REST client set to <span style=\"font-weight: bold\">[</span>Tee junyuntee@gmail.com<span style=\"font-weight: bold\">]</span>                  <a href=\"file://C:\\Users\\ASUS\\miniconda3\\envs\\trading_mvp\\Lib\\site-packages\\edgar\\core.py\" target=\"_blank\"><span style=\"color: #7f7f7f; text-decoration-color: #7f7f7f\">core.py</span></a><span style=\"color: #7f7f7f; text-decoration-color: #7f7f7f\">:</span><a href=\"file://C:\\Users\\ASUS\\miniconda3\\envs\\trading_mvp\\Lib\\site-packages\\edgar\\core.py#144\" target=\"_blank\"><span style=\"color: #7f7f7f; text-decoration-color: #7f7f7f\">144</span></a>\n",
       "</pre>\n"
      ],
      "text/plain": [
       "\u001b[2;36m[20:43:22]\u001b[0m\u001b[2;36m \u001b[0m\u001b[34mINFO    \u001b[0m Identity of the Edgar REST client set to \u001b[1m[\u001b[0mTee junyuntee@gmail.com\u001b[1m]\u001b[0m                  \u001b]8;id=39009;file://C:\\Users\\ASUS\\miniconda3\\envs\\trading_mvp\\Lib\\site-packages\\edgar\\core.py\u001b\\\u001b[2mcore.py\u001b[0m\u001b]8;;\u001b\\\u001b[2m:\u001b[0m\u001b]8;id=976141;file://C:\\Users\\ASUS\\miniconda3\\envs\\trading_mvp\\Lib\\site-packages\\edgar\\core.py#144\u001b\\\u001b[2m144\u001b[0m\u001b]8;;\u001b\\\n"
      ]
     },
     "metadata": {},
     "output_type": "display_data"
    }
   ],
   "source": [
    "set_identity(\"Tee junyuntee@gmail.com\")"
   ]
  },
  {
   "cell_type": "code",
   "execution_count": 35,
   "id": "9d116886",
   "metadata": {},
   "outputs": [],
   "source": [
    "class Sectors(Enum):\n",
    "    COMMUNICATION_SERVICES = 'Communication Services' \n",
    "    CONSUMER_DISCRETIONARY = 'Consumer Discretionary'\n",
    "    CONSUMER_STAPLES = 'Consumer Staples'\n",
    "    ENERGY = 'Energy' \n",
    "    FINANCIALS = 'Financials' \n",
    "    HEALTH_CARE = 'Health Care' \n",
    "    INDUSTRIALS = 'Industrials' \n",
    "    INFORMATION_TECHNOLOGY = 'Information Technology'\n",
    "    MATERIALS = 'Materials' \n",
    "    REAL_ESTATE = 'Real Estate' \n",
    "    UTILITIES = 'Utilities' "
   ]
  },
  {
   "cell_type": "code",
   "execution_count": 36,
   "id": "662d7e14",
   "metadata": {},
   "outputs": [
    {
     "name": "stdout",
     "output_type": "stream",
     "text": [
      "'NoneType' object has no attribute 'get_filings'\n",
      "NSRGY\n"
     ]
    },
    {
     "data": {
      "text/html": [
       "<pre style=\"white-space:pre;overflow-x:auto;line-height:normal;font-family:Menlo,'DejaVu Sans Mono',consolas,'Courier New',monospace\"><span style=\"color: #7fbfbf; text-decoration-color: #7fbfbf\">[20:47:12] </span><span style=\"color: #800000; text-decoration-color: #800000\">WARNING </span> The read operation timed out, retrying in <span style=\"color: #008080; text-decoration-color: #008080; font-weight: bold\">3</span> seconds<span style=\"color: #808000; text-decoration-color: #808000\">...</span>                                <a href=\"file://C:\\Users\\ASUS\\miniconda3\\envs\\trading_mvp\\Lib\\site-packages\\retry\\api.py\" target=\"_blank\"><span style=\"color: #7f7f7f; text-decoration-color: #7f7f7f\">api.py</span></a><span style=\"color: #7f7f7f; text-decoration-color: #7f7f7f\">:</span><a href=\"file://C:\\Users\\ASUS\\miniconda3\\envs\\trading_mvp\\Lib\\site-packages\\retry\\api.py#40\" target=\"_blank\"><span style=\"color: #7f7f7f; text-decoration-color: #7f7f7f\">40</span></a>\n",
       "</pre>\n"
      ],
      "text/plain": [
       "\u001b[2;36m[20:47:12]\u001b[0m\u001b[2;36m \u001b[0m\u001b[31mWARNING \u001b[0m The read operation timed out, retrying in \u001b[1;36m3\u001b[0m seconds\u001b[33m...\u001b[0m                                \u001b]8;id=721125;file://C:\\Users\\ASUS\\miniconda3\\envs\\trading_mvp\\Lib\\site-packages\\retry\\api.py\u001b\\\u001b[2mapi.py\u001b[0m\u001b]8;;\u001b\\\u001b[2m:\u001b[0m\u001b]8;id=455433;file://C:\\Users\\ASUS\\miniconda3\\envs\\trading_mvp\\Lib\\site-packages\\retry\\api.py#40\u001b\\\u001b[2m40\u001b[0m\u001b]8;;\u001b\\\n"
      ]
     },
     "metadata": {},
     "output_type": "display_data"
    },
    {
     "data": {
      "text/html": [
       "<pre style=\"white-space:pre;overflow-x:auto;line-height:normal;font-family:Menlo,'DejaVu Sans Mono',consolas,'Courier New',monospace\"><span style=\"color: #7fbfbf; text-decoration-color: #7fbfbf\">[20:47:47] </span><span style=\"color: #800000; text-decoration-color: #800000\">WARNING </span> The read operation timed out, retrying in <span style=\"color: #008080; text-decoration-color: #008080; font-weight: bold\">3</span> seconds<span style=\"color: #808000; text-decoration-color: #808000\">...</span>                                <a href=\"file://C:\\Users\\ASUS\\miniconda3\\envs\\trading_mvp\\Lib\\site-packages\\retry\\api.py\" target=\"_blank\"><span style=\"color: #7f7f7f; text-decoration-color: #7f7f7f\">api.py</span></a><span style=\"color: #7f7f7f; text-decoration-color: #7f7f7f\">:</span><a href=\"file://C:\\Users\\ASUS\\miniconda3\\envs\\trading_mvp\\Lib\\site-packages\\retry\\api.py#40\" target=\"_blank\"><span style=\"color: #7f7f7f; text-decoration-color: #7f7f7f\">40</span></a>\n",
       "</pre>\n"
      ],
      "text/plain": [
       "\u001b[2;36m[20:47:47]\u001b[0m\u001b[2;36m \u001b[0m\u001b[31mWARNING \u001b[0m The read operation timed out, retrying in \u001b[1;36m3\u001b[0m seconds\u001b[33m...\u001b[0m                                \u001b]8;id=469783;file://C:\\Users\\ASUS\\miniconda3\\envs\\trading_mvp\\Lib\\site-packages\\retry\\api.py\u001b\\\u001b[2mapi.py\u001b[0m\u001b]8;;\u001b\\\u001b[2m:\u001b[0m\u001b]8;id=425993;file://C:\\Users\\ASUS\\miniconda3\\envs\\trading_mvp\\Lib\\site-packages\\retry\\api.py#40\u001b\\\u001b[2m40\u001b[0m\u001b]8;;\u001b\\\n"
      ]
     },
     "metadata": {},
     "output_type": "display_data"
    },
    {
     "name": "stdout",
     "output_type": "stream",
     "text": [
      "'NoneType' object has no attribute 'get_filings'\n",
      "BRK.B\n",
      "'NoneType' object has no attribute 'get_filings'\n",
      "IDCBY\n",
      "'NoneType' object has no attribute 'facts'\n",
      "ABT\n",
      "'NoneType' object has no attribute 'facts'\n",
      "GE\n",
      "'NoneType' object has no attribute 'facts'\n",
      "HON\n",
      "'NoneType' object has no attribute 'facts'\n",
      "UNP\n",
      "'NoneType' object has no attribute 'facts'\n",
      "SCCO\n",
      "'NoneType' object has no attribute 'facts'\n",
      "PSA\n",
      "'NoneType' object has no attribute 'facts'\n",
      "WELL\n"
     ]
    },
    {
     "data": {
      "text/html": [
       "<pre style=\"white-space:pre;overflow-x:auto;line-height:normal;font-family:Menlo,'DejaVu Sans Mono',consolas,'Courier New',monospace\"><span style=\"color: #7fbfbf; text-decoration-color: #7fbfbf\">[21:01:30] </span><span style=\"color: #800000; text-decoration-color: #800000\">WARNING </span> The read operation timed out, retrying in <span style=\"color: #008080; text-decoration-color: #008080; font-weight: bold\">3</span> seconds<span style=\"color: #808000; text-decoration-color: #808000\">...</span>                                <a href=\"file://C:\\Users\\ASUS\\miniconda3\\envs\\trading_mvp\\Lib\\site-packages\\retry\\api.py\" target=\"_blank\"><span style=\"color: #7f7f7f; text-decoration-color: #7f7f7f\">api.py</span></a><span style=\"color: #7f7f7f; text-decoration-color: #7f7f7f\">:</span><a href=\"file://C:\\Users\\ASUS\\miniconda3\\envs\\trading_mvp\\Lib\\site-packages\\retry\\api.py#40\" target=\"_blank\"><span style=\"color: #7f7f7f; text-decoration-color: #7f7f7f\">40</span></a>\n",
       "</pre>\n"
      ],
      "text/plain": [
       "\u001b[2;36m[21:01:30]\u001b[0m\u001b[2;36m \u001b[0m\u001b[31mWARNING \u001b[0m The read operation timed out, retrying in \u001b[1;36m3\u001b[0m seconds\u001b[33m...\u001b[0m                                \u001b]8;id=205891;file://C:\\Users\\ASUS\\miniconda3\\envs\\trading_mvp\\Lib\\site-packages\\retry\\api.py\u001b\\\u001b[2mapi.py\u001b[0m\u001b]8;;\u001b\\\u001b[2m:\u001b[0m\u001b]8;id=144450;file://C:\\Users\\ASUS\\miniconda3\\envs\\trading_mvp\\Lib\\site-packages\\retry\\api.py#40\u001b\\\u001b[2m40\u001b[0m\u001b]8;;\u001b\\\n"
      ]
     },
     "metadata": {},
     "output_type": "display_data"
    }
   ],
   "source": [
    "for sector in list(Sectors):\n",
    "    for filename in os.listdir(sector.value):\n",
    "        ticker = filename.split()[-1].split('.csv')[0].strip('()')\n",
    "        output_dir = Path(f\"filings/{sector.value}\")\n",
    "        output_dir.mkdir(parents=True, exist_ok=True)\n",
    "        try:\n",
    "            filings = Company(ticker).get_filings(form=\"10-K\").latest(10)\n",
    "            count = 0\n",
    "            for filing in filings:\n",
    "                facts = filing.xbrl().facts.data\n",
    "                facts = facts[(facts['namespace'] == 'dei') | (facts['namespace'] == 'us-gaap')]\n",
    "                facts.to_csv(f\"{output_dir}/{ticker}-{count}.csv\")\n",
    "                count += 1\n",
    "        except Exception as error:\n",
    "            print(error)\n",
    "            print(ticker)\n",
    "            continue"
   ]
  },
  {
   "cell_type": "code",
   "execution_count": 37,
   "id": "89a19830",
   "metadata": {},
   "outputs": [],
   "source": [
    "# List of stocks not found\n",
    "# 1. NSRGY\n",
    "# 2. BRK.B\n",
    "# 3. IDCBY\n",
    "# 4. ABT\n",
    "# 5. GE\n",
    "# 6. HON\n",
    "# 7. UNP\n",
    "# 8. SCCO\n",
    "# 9. PSA\n",
    "# 10. WELL"
   ]
  },
  {
   "cell_type": "code",
   "execution_count": null,
   "id": "3aaf816b",
   "metadata": {},
   "outputs": [],
   "source": []
  }
 ],
 "metadata": {
  "kernelspec": {
   "display_name": "trading_mvp",
   "language": "python",
   "name": "trading_mvp"
  },
  "language_info": {
   "codemirror_mode": {
    "name": "ipython",
    "version": 3
   },
   "file_extension": ".py",
   "mimetype": "text/x-python",
   "name": "python",
   "nbconvert_exporter": "python",
   "pygments_lexer": "ipython3",
   "version": "3.11.4"
  }
 },
 "nbformat": 4,
 "nbformat_minor": 5
}
